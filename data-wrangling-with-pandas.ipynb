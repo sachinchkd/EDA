{
 "cells": [
  {
   "cell_type": "markdown",
   "metadata": {},
   "source": [
    "## DATA WRANGLING AND CLEANING"
   ]
  },
  {
   "cell_type": "markdown",
   "metadata": {},
   "source": [
    "### Importing Libraries\n",
    "The first part of any data science project is preparing your data, which means making sure its in the right place and format for you to conduct your analysis. The first step of any data preparation is importing your raw data and cleaning it.\n",
    "\n",
    "If you look in the small-data directory on your machine, you'll see that the data for this project comes in three CSV files: mexico-real-estate-1.csv, mexico-real-estate-2.csv, and mexico-real-estate-3.csv.\n"
   ]
  },
  {
   "cell_type": "code",
   "execution_count": 1,
   "metadata": {},
   "outputs": [],
   "source": [
    "import pandas as pd\n"
   ]
  },
  {
   "cell_type": "code",
   "execution_count": 10,
   "metadata": {},
   "outputs": [
    {
     "name": "stdout",
     "output_type": "stream",
     "text": [
      "df1 type: <class 'pandas.core.frame.DataFrame'>\n",
      "df1 shape: (700, 7)\n",
      "\n",
      "df2 type: <class 'pandas.core.frame.DataFrame'>\n",
      "df2 shape: (700, 7)\n",
      "\n",
      "df3 type: <class 'pandas.core.frame.DataFrame'>\n",
      "df3 shape: (700, 6)\n"
     ]
    }
   ],
   "source": [
    "# Load CSV files into DataFrames\n",
    "df1 = pd.read_csv(\"data/mexico-real-estate-1.csv\",encoding=\"ISO-8859-1\")\n",
    "df2 = pd.read_csv(\"data/mexico-real-estate-2.csv\",encoding=\"ISO-8859-1\")\n",
    "df3 = pd.read_csv(\"data/mexico-real-estate-3.csv\",encoding=\"ISO-8859-1\")\n",
    "\n",
    "# Print object type and shape for DataFrames\n",
    "print(\"df1 type:\", type(df1))\n",
    "print(\"df1 shape:\", df1.shape)\n",
    "print()\n",
    "print(\"df2 type:\", type(df2))\n",
    "print(\"df2 shape:\", df2.shape)\n",
    "print()\n",
    "print(\"df3 type:\", type(df3))\n",
    "print(\"df3 shape:\", df3.shape)"
   ]
  },
  {
   "cell_type": "markdown",
   "metadata": {},
   "source": [
    "### Clean df1\n",
    "Inspect df1 by looking at its shape attribute. Then use the info method to see the data types and number of missing values for each column. Finally, use the head method to determine to look at the first five rows of your dataset."
   ]
  },
  {
   "cell_type": "code",
   "execution_count": 11,
   "metadata": {},
   "outputs": [
    {
     "data": {
      "text/html": [
       "<div>\n",
       "<style scoped>\n",
       "    .dataframe tbody tr th:only-of-type {\n",
       "        vertical-align: middle;\n",
       "    }\n",
       "\n",
       "    .dataframe tbody tr th {\n",
       "        vertical-align: top;\n",
       "    }\n",
       "\n",
       "    .dataframe thead th {\n",
       "        text-align: right;\n",
       "    }\n",
       "</style>\n",
       "<table border=\"1\" class=\"dataframe\">\n",
       "  <thead>\n",
       "    <tr style=\"text-align: right;\">\n",
       "      <th></th>\n",
       "      <th>Unnamed: 0</th>\n",
       "      <th>property_type</th>\n",
       "      <th>state</th>\n",
       "      <th>lat</th>\n",
       "      <th>lon</th>\n",
       "      <th>area_m2</th>\n",
       "      <th>price_usd</th>\n",
       "    </tr>\n",
       "  </thead>\n",
       "  <tbody>\n",
       "    <tr>\n",
       "      <th>0</th>\n",
       "      <td>1</td>\n",
       "      <td>house</td>\n",
       "      <td>Estado de México</td>\n",
       "      <td>19.560181</td>\n",
       "      <td>-99.233528</td>\n",
       "      <td>150</td>\n",
       "      <td>$67,965.56</td>\n",
       "    </tr>\n",
       "    <tr>\n",
       "      <th>1</th>\n",
       "      <td>2</td>\n",
       "      <td>house</td>\n",
       "      <td>Nuevo León</td>\n",
       "      <td>25.688436</td>\n",
       "      <td>-100.198807</td>\n",
       "      <td>186</td>\n",
       "      <td>$63,223.78</td>\n",
       "    </tr>\n",
       "    <tr>\n",
       "      <th>2</th>\n",
       "      <td>3</td>\n",
       "      <td>apartment</td>\n",
       "      <td>Guerrero</td>\n",
       "      <td>16.767704</td>\n",
       "      <td>-99.764383</td>\n",
       "      <td>82</td>\n",
       "      <td>$84,298.37</td>\n",
       "    </tr>\n",
       "    <tr>\n",
       "      <th>3</th>\n",
       "      <td>4</td>\n",
       "      <td>apartment</td>\n",
       "      <td>Guerrero</td>\n",
       "      <td>16.829782</td>\n",
       "      <td>-99.911012</td>\n",
       "      <td>150</td>\n",
       "      <td>$94,308.80</td>\n",
       "    </tr>\n",
       "    <tr>\n",
       "      <th>4</th>\n",
       "      <td>5</td>\n",
       "      <td>house</td>\n",
       "      <td>Veracruz de Ignacio de la Llave</td>\n",
       "      <td>NaN</td>\n",
       "      <td>NaN</td>\n",
       "      <td>175</td>\n",
       "      <td>$94,835.67</td>\n",
       "    </tr>\n",
       "  </tbody>\n",
       "</table>\n",
       "</div>"
      ],
      "text/plain": [
       "   Unnamed: 0 property_type                            state        lat  \\\n",
       "0           1         house                 Estado de México  19.560181   \n",
       "1           2         house                       Nuevo León  25.688436   \n",
       "2           3     apartment                         Guerrero  16.767704   \n",
       "3           4     apartment                         Guerrero  16.829782   \n",
       "4           5         house  Veracruz de Ignacio de la Llave        NaN   \n",
       "\n",
       "          lon  area_m2   price_usd  \n",
       "0  -99.233528      150  $67,965.56  \n",
       "1 -100.198807      186  $63,223.78  \n",
       "2  -99.764383       82  $84,298.37  \n",
       "3  -99.911012      150  $94,308.80  \n",
       "4         NaN      175  $94,835.67  "
      ]
     },
     "execution_count": 11,
     "metadata": {},
     "output_type": "execute_result"
    }
   ],
   "source": [
    "# Print df1 shape\n",
    "df1.shape\n",
    "\n",
    "# Print df1 info\n",
    "df1.info\n",
    "\n",
    "# Get output of df1 head\n",
    "df1.head()"
   ]
  },
  {
   "cell_type": "markdown",
   "metadata": {},
   "source": [
    "Clean df1 by dropping rows with NaN values. Then remove the \"$\" and \",\" characters from \"price_usd\" and recast the values in the column as floats."
   ]
  },
  {
   "cell_type": "code",
   "execution_count": 12,
   "metadata": {},
   "outputs": [
    {
     "name": "stdout",
     "output_type": "stream",
     "text": [
      "<class 'pandas.core.frame.DataFrame'>\n",
      "RangeIndex: 700 entries, 0 to 699\n",
      "Data columns (total 7 columns):\n",
      " #   Column         Non-Null Count  Dtype  \n",
      "---  ------         --------------  -----  \n",
      " 0   Unnamed: 0     700 non-null    int64  \n",
      " 1   property_type  700 non-null    object \n",
      " 2   state          700 non-null    object \n",
      " 3   lat            583 non-null    float64\n",
      " 4   lon            583 non-null    float64\n",
      " 5   area_m2        700 non-null    int64  \n",
      " 6   price_usd      700 non-null    object \n",
      "dtypes: float64(2), int64(2), object(3)\n",
      "memory usage: 38.4+ KB\n"
     ]
    }
   ],
   "source": [
    "df1.info()"
   ]
  },
  {
   "cell_type": "code",
   "execution_count": 13,
   "metadata": {},
   "outputs": [
    {
     "name": "stdout",
     "output_type": "stream",
     "text": [
      "df1 type: <class 'pandas.core.frame.DataFrame'>\n",
      "df1 shape: (583, 7)\n"
     ]
    },
    {
     "data": {
      "text/html": [
       "<div>\n",
       "<style scoped>\n",
       "    .dataframe tbody tr th:only-of-type {\n",
       "        vertical-align: middle;\n",
       "    }\n",
       "\n",
       "    .dataframe tbody tr th {\n",
       "        vertical-align: top;\n",
       "    }\n",
       "\n",
       "    .dataframe thead th {\n",
       "        text-align: right;\n",
       "    }\n",
       "</style>\n",
       "<table border=\"1\" class=\"dataframe\">\n",
       "  <thead>\n",
       "    <tr style=\"text-align: right;\">\n",
       "      <th></th>\n",
       "      <th>Unnamed: 0</th>\n",
       "      <th>property_type</th>\n",
       "      <th>state</th>\n",
       "      <th>lat</th>\n",
       "      <th>lon</th>\n",
       "      <th>area_m2</th>\n",
       "      <th>price_usd</th>\n",
       "    </tr>\n",
       "  </thead>\n",
       "  <tbody>\n",
       "    <tr>\n",
       "      <th>0</th>\n",
       "      <td>1</td>\n",
       "      <td>house</td>\n",
       "      <td>Estado de México</td>\n",
       "      <td>19.560181</td>\n",
       "      <td>-99.233528</td>\n",
       "      <td>150</td>\n",
       "      <td>67965.56</td>\n",
       "    </tr>\n",
       "    <tr>\n",
       "      <th>1</th>\n",
       "      <td>2</td>\n",
       "      <td>house</td>\n",
       "      <td>Nuevo León</td>\n",
       "      <td>25.688436</td>\n",
       "      <td>-100.198807</td>\n",
       "      <td>186</td>\n",
       "      <td>63223.78</td>\n",
       "    </tr>\n",
       "    <tr>\n",
       "      <th>2</th>\n",
       "      <td>3</td>\n",
       "      <td>apartment</td>\n",
       "      <td>Guerrero</td>\n",
       "      <td>16.767704</td>\n",
       "      <td>-99.764383</td>\n",
       "      <td>82</td>\n",
       "      <td>84298.37</td>\n",
       "    </tr>\n",
       "    <tr>\n",
       "      <th>3</th>\n",
       "      <td>4</td>\n",
       "      <td>apartment</td>\n",
       "      <td>Guerrero</td>\n",
       "      <td>16.829782</td>\n",
       "      <td>-99.911012</td>\n",
       "      <td>150</td>\n",
       "      <td>94308.80</td>\n",
       "    </tr>\n",
       "    <tr>\n",
       "      <th>5</th>\n",
       "      <td>6</td>\n",
       "      <td>house</td>\n",
       "      <td>Yucatán</td>\n",
       "      <td>21.052583</td>\n",
       "      <td>-89.538639</td>\n",
       "      <td>205</td>\n",
       "      <td>105191.37</td>\n",
       "    </tr>\n",
       "  </tbody>\n",
       "</table>\n",
       "</div>"
      ],
      "text/plain": [
       "   Unnamed: 0 property_type             state        lat         lon  area_m2  \\\n",
       "0           1         house  Estado de México  19.560181  -99.233528      150   \n",
       "1           2         house        Nuevo León  25.688436 -100.198807      186   \n",
       "2           3     apartment          Guerrero  16.767704  -99.764383       82   \n",
       "3           4     apartment          Guerrero  16.829782  -99.911012      150   \n",
       "5           6         house           Yucatán  21.052583  -89.538639      205   \n",
       "\n",
       "   price_usd  \n",
       "0   67965.56  \n",
       "1   63223.78  \n",
       "2   84298.37  \n",
       "3   94308.80  \n",
       "5  105191.37  "
      ]
     },
     "execution_count": 13,
     "metadata": {},
     "output_type": "execute_result"
    }
   ],
   "source": [
    "# Drop null values from df1\n",
    "df1.dropna(inplace=True)\n",
    "\n",
    "# Clean \"price_usd\" column in df1\n",
    "df1[\"price_usd\"] = (\n",
    "                    df1[\"price_usd\"]\n",
    "                    .str.replace(\"$\",\"\",regex=False)\n",
    "                    .str.replace(\",\",\"\",regex=False)\n",
    "                    .astype(float))\n",
    "\n",
    "\n",
    "# Print object type, shape, and head\n",
    "print(\"df1 type:\", type(df1))\n",
    "print(\"df1 shape:\", df1.shape)\n",
    "df1.head()"
   ]
  },
  {
   "cell_type": "markdown",
   "metadata": {},
   "source": [
    "### Clean df2\n",
    "Now it's time to tackle df2. Take a moment to inspect it using the same commands you used before. You'll notice that it has the same issue of NaN values, but there's a new problem, too: The home prices are in Mexican pesos (\"price_mxn\"), not US dollars (\"price_usd\"). If we want to compare all the home prices in this dataset, they all need to be in the same currency."
   ]
  },
  {
   "cell_type": "markdown",
   "metadata": {},
   "source": [
    "First, drop rows with NaN values in df2. Next, use the \"price_mxn\" column to create a new column named \"price_usd\". (Keep in mind that, when this data was collected in 2014, a dollar cost 19 pesos.) Finally, drop the \"price_mxn\" from the DataFrame."
   ]
  },
  {
   "cell_type": "code",
   "execution_count": 14,
   "metadata": {},
   "outputs": [
    {
     "data": {
      "text/plain": [
       "(700, 7)"
      ]
     },
     "execution_count": 14,
     "metadata": {},
     "output_type": "execute_result"
    }
   ],
   "source": [
    "df2.shape"
   ]
  },
  {
   "cell_type": "code",
   "execution_count": 15,
   "metadata": {},
   "outputs": [],
   "source": [
    "df2.dropna(inplace=True)"
   ]
  },
  {
   "cell_type": "code",
   "execution_count": 16,
   "metadata": {},
   "outputs": [
    {
     "name": "stdout",
     "output_type": "stream",
     "text": [
      "<class 'pandas.core.frame.DataFrame'>\n",
      "Int64Index: 571 entries, 0 to 699\n",
      "Data columns (total 7 columns):\n",
      " #   Column         Non-Null Count  Dtype  \n",
      "---  ------         --------------  -----  \n",
      " 0   Unnamed: 0     571 non-null    int64  \n",
      " 1   property_type  571 non-null    object \n",
      " 2   state          571 non-null    object \n",
      " 3   lat            571 non-null    float64\n",
      " 4   lon            571 non-null    float64\n",
      " 5   area_m2        571 non-null    int64  \n",
      " 6   price_mxn      571 non-null    int64  \n",
      "dtypes: float64(2), int64(3), object(2)\n",
      "memory usage: 35.7+ KB\n"
     ]
    }
   ],
   "source": [
    "df2.info()"
   ]
  },
  {
   "cell_type": "code",
   "execution_count": 17,
   "metadata": {},
   "outputs": [
    {
     "name": "stdout",
     "output_type": "stream",
     "text": [
      "df2 type: <class 'pandas.core.frame.DataFrame'>\n",
      "df2 shape: (571, 7)\n"
     ]
    },
    {
     "data": {
      "text/html": [
       "<div>\n",
       "<style scoped>\n",
       "    .dataframe tbody tr th:only-of-type {\n",
       "        vertical-align: middle;\n",
       "    }\n",
       "\n",
       "    .dataframe tbody tr th {\n",
       "        vertical-align: top;\n",
       "    }\n",
       "\n",
       "    .dataframe thead th {\n",
       "        text-align: right;\n",
       "    }\n",
       "</style>\n",
       "<table border=\"1\" class=\"dataframe\">\n",
       "  <thead>\n",
       "    <tr style=\"text-align: right;\">\n",
       "      <th></th>\n",
       "      <th>Unnamed: 0</th>\n",
       "      <th>property_type</th>\n",
       "      <th>state</th>\n",
       "      <th>lat</th>\n",
       "      <th>lon</th>\n",
       "      <th>area_m2</th>\n",
       "      <th>price_usd</th>\n",
       "    </tr>\n",
       "  </thead>\n",
       "  <tbody>\n",
       "    <tr>\n",
       "      <th>0</th>\n",
       "      <td>1</td>\n",
       "      <td>apartment</td>\n",
       "      <td>Nuevo León</td>\n",
       "      <td>25.721081</td>\n",
       "      <td>-100.345581</td>\n",
       "      <td>72</td>\n",
       "      <td>68421.05</td>\n",
       "    </tr>\n",
       "    <tr>\n",
       "      <th>2</th>\n",
       "      <td>3</td>\n",
       "      <td>house</td>\n",
       "      <td>Morelos</td>\n",
       "      <td>23.634501</td>\n",
       "      <td>-102.552788</td>\n",
       "      <td>360</td>\n",
       "      <td>278947.37</td>\n",
       "    </tr>\n",
       "    <tr>\n",
       "      <th>6</th>\n",
       "      <td>7</td>\n",
       "      <td>apartment</td>\n",
       "      <td>Estado de México</td>\n",
       "      <td>19.272040</td>\n",
       "      <td>-99.572013</td>\n",
       "      <td>85</td>\n",
       "      <td>65789.47</td>\n",
       "    </tr>\n",
       "    <tr>\n",
       "      <th>7</th>\n",
       "      <td>8</td>\n",
       "      <td>house</td>\n",
       "      <td>San Luis Potosí</td>\n",
       "      <td>22.138882</td>\n",
       "      <td>-100.996510</td>\n",
       "      <td>158</td>\n",
       "      <td>111578.95</td>\n",
       "    </tr>\n",
       "    <tr>\n",
       "      <th>8</th>\n",
       "      <td>9</td>\n",
       "      <td>apartment</td>\n",
       "      <td>Distrito Federal</td>\n",
       "      <td>19.394558</td>\n",
       "      <td>-99.129707</td>\n",
       "      <td>65</td>\n",
       "      <td>39904.74</td>\n",
       "    </tr>\n",
       "  </tbody>\n",
       "</table>\n",
       "</div>"
      ],
      "text/plain": [
       "   Unnamed: 0 property_type             state        lat         lon  area_m2  \\\n",
       "0           1     apartment        Nuevo León  25.721081 -100.345581       72   \n",
       "2           3         house           Morelos  23.634501 -102.552788      360   \n",
       "6           7     apartment  Estado de México  19.272040  -99.572013       85   \n",
       "7           8         house   San Luis Potosí  22.138882 -100.996510      158   \n",
       "8           9     apartment  Distrito Federal  19.394558  -99.129707       65   \n",
       "\n",
       "   price_usd  \n",
       "0   68421.05  \n",
       "2  278947.37  \n",
       "6   65789.47  \n",
       "7  111578.95  \n",
       "8   39904.74  "
      ]
     },
     "execution_count": 17,
     "metadata": {},
     "output_type": "execute_result"
    }
   ],
   "source": [
    "# Create \"price_usd\" column for df2 (19 pesos to the dollar in 2014)\n",
    "df2[\"price_usd\"] = (df2[\"price_mxn\"]/19).round(2)\n",
    "\n",
    "# Drop \"price_mxn\" column from df2\n",
    "df2.drop(columns = [\"price_mxn\"],inplace=True)\n",
    "\n",
    "# Print object type, shape, and head\n",
    "print(\"df2 type:\", type(df2))\n",
    "print(\"df2 shape:\", df2.shape)\n",
    "df2.head()"
   ]
  },
  {
   "cell_type": "markdown",
   "metadata": {},
   "source": [
    "### Clean df3\n",
    "Great work! We're now on the final DataFrame. Use the same shape, info and head commands to inspect the df3. Do you see any familiar issues?\n",
    "\n",
    "You'll notice that we still have NaN values, but there are two new problems:\n",
    "\n",
    "Instead of separate \"lat\" and \"lon\" columns, there's a single \"lat-lon\" column.\n",
    "Instead of a \"state\" column, there's a \"place_with_parent_names\" column.\n",
    "We need the resolve these problems so that df3 has the same columns in the same format as df1 and df2."
   ]
  },
  {
   "cell_type": "markdown",
   "metadata": {},
   "source": [
    "Drop rows with NaN values in df3. Then use the split method to create two new columns from \"lat-lon\" named \"lat\" and \"lon\", respectively."
   ]
  },
  {
   "cell_type": "code",
   "execution_count": 18,
   "metadata": {},
   "outputs": [
    {
     "data": {
      "text/html": [
       "<div>\n",
       "<style scoped>\n",
       "    .dataframe tbody tr th:only-of-type {\n",
       "        vertical-align: middle;\n",
       "    }\n",
       "\n",
       "    .dataframe tbody tr th {\n",
       "        vertical-align: top;\n",
       "    }\n",
       "\n",
       "    .dataframe thead th {\n",
       "        text-align: right;\n",
       "    }\n",
       "</style>\n",
       "<table border=\"1\" class=\"dataframe\">\n",
       "  <thead>\n",
       "    <tr style=\"text-align: right;\">\n",
       "      <th></th>\n",
       "      <th>Unnamed: 0</th>\n",
       "      <th>property_type</th>\n",
       "      <th>place_with_parent_names</th>\n",
       "      <th>lat-lon</th>\n",
       "      <th>area_m2</th>\n",
       "      <th>price_usd</th>\n",
       "      <th>lat</th>\n",
       "      <th>lon</th>\n",
       "    </tr>\n",
       "  </thead>\n",
       "  <tbody>\n",
       "    <tr>\n",
       "      <th>0</th>\n",
       "      <td>1</td>\n",
       "      <td>apartment</td>\n",
       "      <td>|México|Distrito Federal|Gustavo A. Madero|Acu...</td>\n",
       "      <td>19.52589,-99.151703</td>\n",
       "      <td>71</td>\n",
       "      <td>48550.59</td>\n",
       "      <td>19.52589</td>\n",
       "      <td>-99.151703</td>\n",
       "    </tr>\n",
       "    <tr>\n",
       "      <th>1</th>\n",
       "      <td>2</td>\n",
       "      <td>house</td>\n",
       "      <td>|México|Estado de México|Toluca|Metepec|</td>\n",
       "      <td>19.2640539,-99.5727534</td>\n",
       "      <td>233</td>\n",
       "      <td>168636.73</td>\n",
       "      <td>19.2640539</td>\n",
       "      <td>-99.5727534</td>\n",
       "    </tr>\n",
       "    <tr>\n",
       "      <th>2</th>\n",
       "      <td>3</td>\n",
       "      <td>house</td>\n",
       "      <td>|México|Estado de México|Toluca|Toluca de Lerd...</td>\n",
       "      <td>19.268629,-99.671722</td>\n",
       "      <td>300</td>\n",
       "      <td>86932.69</td>\n",
       "      <td>19.268629</td>\n",
       "      <td>-99.671722</td>\n",
       "    </tr>\n",
       "    <tr>\n",
       "      <th>4</th>\n",
       "      <td>5</td>\n",
       "      <td>apartment</td>\n",
       "      <td>|México|Veracruz de Ignacio de la Llave|Veracruz|</td>\n",
       "      <td>19.511938,-96.871956</td>\n",
       "      <td>84</td>\n",
       "      <td>68508.67</td>\n",
       "      <td>19.511938</td>\n",
       "      <td>-96.871956</td>\n",
       "    </tr>\n",
       "    <tr>\n",
       "      <th>5</th>\n",
       "      <td>6</td>\n",
       "      <td>house</td>\n",
       "      <td>|México|Jalisco|Guadalajara|</td>\n",
       "      <td>20.689157,-103.366728</td>\n",
       "      <td>175</td>\n",
       "      <td>102763.00</td>\n",
       "      <td>20.689157</td>\n",
       "      <td>-103.366728</td>\n",
       "    </tr>\n",
       "  </tbody>\n",
       "</table>\n",
       "</div>"
      ],
      "text/plain": [
       "   Unnamed: 0 property_type  \\\n",
       "0           1     apartment   \n",
       "1           2         house   \n",
       "2           3         house   \n",
       "4           5     apartment   \n",
       "5           6         house   \n",
       "\n",
       "                             place_with_parent_names                 lat-lon  \\\n",
       "0  |México|Distrito Federal|Gustavo A. Madero|Acu...     19.52589,-99.151703   \n",
       "1           |México|Estado de México|Toluca|Metepec|  19.2640539,-99.5727534   \n",
       "2  |México|Estado de México|Toluca|Toluca de Lerd...    19.268629,-99.671722   \n",
       "4  |México|Veracruz de Ignacio de la Llave|Veracruz|    19.511938,-96.871956   \n",
       "5                       |México|Jalisco|Guadalajara|   20.689157,-103.366728   \n",
       "\n",
       "   area_m2  price_usd         lat          lon  \n",
       "0       71   48550.59    19.52589   -99.151703  \n",
       "1      233  168636.73  19.2640539  -99.5727534  \n",
       "2      300   86932.69   19.268629   -99.671722  \n",
       "4       84   68508.67   19.511938   -96.871956  \n",
       "5      175  102763.00   20.689157  -103.366728  "
      ]
     },
     "execution_count": 18,
     "metadata": {},
     "output_type": "execute_result"
    }
   ],
   "source": [
    "df3.dropna(inplace=True)\n",
    "df3[[\"lat\",\"lon\"]] = df3[\"lat-lon\"].str.split(\",\",expand=True)\n",
    "df3.head()"
   ]
  },
  {
   "cell_type": "code",
   "execution_count": 19,
   "metadata": {},
   "outputs": [
    {
     "data": {
      "text/plain": [
       "0    |México|Distrito Federal|Gustavo A. Madero|Acu...\n",
       "1             |México|Estado de México|Toluca|Metepec|\n",
       "2    |México|Estado de México|Toluca|Toluca de Lerd...\n",
       "4    |México|Veracruz de Ignacio de la Llave|Veracruz|\n",
       "5                         |México|Jalisco|Guadalajara|\n",
       "Name: place_with_parent_names, dtype: object"
      ]
     },
     "execution_count": 19,
     "metadata": {},
     "output_type": "execute_result"
    }
   ],
   "source": [
    "df3[\"place_with_parent_names\"].head()"
   ]
  },
  {
   "cell_type": "code",
   "execution_count": 20,
   "metadata": {},
   "outputs": [
    {
     "name": "stdout",
     "output_type": "stream",
     "text": [
      "df3 type: <class 'pandas.core.frame.DataFrame'>\n",
      "df3 shape: (582, 7)\n"
     ]
    },
    {
     "data": {
      "text/html": [
       "<div>\n",
       "<style scoped>\n",
       "    .dataframe tbody tr th:only-of-type {\n",
       "        vertical-align: middle;\n",
       "    }\n",
       "\n",
       "    .dataframe tbody tr th {\n",
       "        vertical-align: top;\n",
       "    }\n",
       "\n",
       "    .dataframe thead th {\n",
       "        text-align: right;\n",
       "    }\n",
       "</style>\n",
       "<table border=\"1\" class=\"dataframe\">\n",
       "  <thead>\n",
       "    <tr style=\"text-align: right;\">\n",
       "      <th></th>\n",
       "      <th>Unnamed: 0</th>\n",
       "      <th>property_type</th>\n",
       "      <th>area_m2</th>\n",
       "      <th>price_usd</th>\n",
       "      <th>lat</th>\n",
       "      <th>lon</th>\n",
       "      <th>state</th>\n",
       "    </tr>\n",
       "  </thead>\n",
       "  <tbody>\n",
       "    <tr>\n",
       "      <th>0</th>\n",
       "      <td>1</td>\n",
       "      <td>apartment</td>\n",
       "      <td>71</td>\n",
       "      <td>48550.59</td>\n",
       "      <td>19.52589</td>\n",
       "      <td>-99.151703</td>\n",
       "      <td>Distrito Federal</td>\n",
       "    </tr>\n",
       "    <tr>\n",
       "      <th>1</th>\n",
       "      <td>2</td>\n",
       "      <td>house</td>\n",
       "      <td>233</td>\n",
       "      <td>168636.73</td>\n",
       "      <td>19.2640539</td>\n",
       "      <td>-99.5727534</td>\n",
       "      <td>Estado de México</td>\n",
       "    </tr>\n",
       "    <tr>\n",
       "      <th>2</th>\n",
       "      <td>3</td>\n",
       "      <td>house</td>\n",
       "      <td>300</td>\n",
       "      <td>86932.69</td>\n",
       "      <td>19.268629</td>\n",
       "      <td>-99.671722</td>\n",
       "      <td>Estado de México</td>\n",
       "    </tr>\n",
       "    <tr>\n",
       "      <th>4</th>\n",
       "      <td>5</td>\n",
       "      <td>apartment</td>\n",
       "      <td>84</td>\n",
       "      <td>68508.67</td>\n",
       "      <td>19.511938</td>\n",
       "      <td>-96.871956</td>\n",
       "      <td>Veracruz de Ignacio de la Llave</td>\n",
       "    </tr>\n",
       "    <tr>\n",
       "      <th>5</th>\n",
       "      <td>6</td>\n",
       "      <td>house</td>\n",
       "      <td>175</td>\n",
       "      <td>102763.00</td>\n",
       "      <td>20.689157</td>\n",
       "      <td>-103.366728</td>\n",
       "      <td>Jalisco</td>\n",
       "    </tr>\n",
       "  </tbody>\n",
       "</table>\n",
       "</div>"
      ],
      "text/plain": [
       "   Unnamed: 0 property_type  area_m2  price_usd         lat          lon  \\\n",
       "0           1     apartment       71   48550.59    19.52589   -99.151703   \n",
       "1           2         house      233  168636.73  19.2640539  -99.5727534   \n",
       "2           3         house      300   86932.69   19.268629   -99.671722   \n",
       "4           5     apartment       84   68508.67   19.511938   -96.871956   \n",
       "5           6         house      175  102763.00   20.689157  -103.366728   \n",
       "\n",
       "                             state  \n",
       "0                 Distrito Federal  \n",
       "1                 Estado de México  \n",
       "2                 Estado de México  \n",
       "4  Veracruz de Ignacio de la Llave  \n",
       "5                          Jalisco  "
      ]
     },
     "execution_count": 20,
     "metadata": {},
     "output_type": "execute_result"
    }
   ],
   "source": [
    "# Create \"state\" column for df3\n",
    "df3[\"state\"] = df3[\"place_with_parent_names\"].str.split(\"|\",expand= True)[2]\n",
    "\n",
    "# Drop \"place_with_parent_names\" and \"lat-lon\" from df3\n",
    "df3.drop(columns = [\"lat-lon\",\"place_with_parent_names\"], inplace=True) \n",
    "\n",
    "# Print object type, shape, and head\n",
    "print(\"df3 type:\", type(df3))\n",
    "print(\"df3 shape:\", df3.shape)\n",
    "df3.head()"
   ]
  },
  {
   "cell_type": "markdown",
   "metadata": {},
   "source": [
    "### Concatenate DataFrames\n",
    "Great work! You have three clean DataFrames, and now it's time to combine them into a single DataFrame so that you can conduct your analysis."
   ]
  },
  {
   "cell_type": "code",
   "execution_count": 21,
   "metadata": {},
   "outputs": [
    {
     "name": "stdout",
     "output_type": "stream",
     "text": [
      "df type: <class 'pandas.core.frame.DataFrame'>\n",
      "df shape: (1736, 7)\n"
     ]
    },
    {
     "data": {
      "text/html": [
       "<div>\n",
       "<style scoped>\n",
       "    .dataframe tbody tr th:only-of-type {\n",
       "        vertical-align: middle;\n",
       "    }\n",
       "\n",
       "    .dataframe tbody tr th {\n",
       "        vertical-align: top;\n",
       "    }\n",
       "\n",
       "    .dataframe thead th {\n",
       "        text-align: right;\n",
       "    }\n",
       "</style>\n",
       "<table border=\"1\" class=\"dataframe\">\n",
       "  <thead>\n",
       "    <tr style=\"text-align: right;\">\n",
       "      <th></th>\n",
       "      <th>Unnamed: 0</th>\n",
       "      <th>property_type</th>\n",
       "      <th>state</th>\n",
       "      <th>lat</th>\n",
       "      <th>lon</th>\n",
       "      <th>area_m2</th>\n",
       "      <th>price_usd</th>\n",
       "    </tr>\n",
       "  </thead>\n",
       "  <tbody>\n",
       "    <tr>\n",
       "      <th>0</th>\n",
       "      <td>1</td>\n",
       "      <td>house</td>\n",
       "      <td>Estado de México</td>\n",
       "      <td>19.560181</td>\n",
       "      <td>-99.233528</td>\n",
       "      <td>150</td>\n",
       "      <td>67965.56</td>\n",
       "    </tr>\n",
       "    <tr>\n",
       "      <th>1</th>\n",
       "      <td>2</td>\n",
       "      <td>house</td>\n",
       "      <td>Nuevo León</td>\n",
       "      <td>25.688436</td>\n",
       "      <td>-100.198807</td>\n",
       "      <td>186</td>\n",
       "      <td>63223.78</td>\n",
       "    </tr>\n",
       "    <tr>\n",
       "      <th>2</th>\n",
       "      <td>3</td>\n",
       "      <td>apartment</td>\n",
       "      <td>Guerrero</td>\n",
       "      <td>16.767704</td>\n",
       "      <td>-99.764383</td>\n",
       "      <td>82</td>\n",
       "      <td>84298.37</td>\n",
       "    </tr>\n",
       "    <tr>\n",
       "      <th>3</th>\n",
       "      <td>4</td>\n",
       "      <td>apartment</td>\n",
       "      <td>Guerrero</td>\n",
       "      <td>16.829782</td>\n",
       "      <td>-99.911012</td>\n",
       "      <td>150</td>\n",
       "      <td>94308.80</td>\n",
       "    </tr>\n",
       "    <tr>\n",
       "      <th>5</th>\n",
       "      <td>6</td>\n",
       "      <td>house</td>\n",
       "      <td>Yucatán</td>\n",
       "      <td>21.052583</td>\n",
       "      <td>-89.538639</td>\n",
       "      <td>205</td>\n",
       "      <td>105191.37</td>\n",
       "    </tr>\n",
       "  </tbody>\n",
       "</table>\n",
       "</div>"
      ],
      "text/plain": [
       "   Unnamed: 0 property_type             state        lat         lon  area_m2  \\\n",
       "0           1         house  Estado de México  19.560181  -99.233528      150   \n",
       "1           2         house        Nuevo León  25.688436 -100.198807      186   \n",
       "2           3     apartment          Guerrero  16.767704  -99.764383       82   \n",
       "3           4     apartment          Guerrero  16.829782  -99.911012      150   \n",
       "5           6         house           Yucatán  21.052583  -89.538639      205   \n",
       "\n",
       "   price_usd  \n",
       "0   67965.56  \n",
       "1   63223.78  \n",
       "2   84298.37  \n",
       "3   94308.80  \n",
       "5  105191.37  "
      ]
     },
     "execution_count": 21,
     "metadata": {},
     "output_type": "execute_result"
    }
   ],
   "source": [
    "# Concatenate df1, df2, and df3\n",
    "df = pd.concat([df1,df2,df3])\n",
    "\n",
    "# Print object type, shape, and head\n",
    "print(\"df type:\", type(df))\n",
    "print(\"df shape:\", df.shape)\n",
    "df.head()"
   ]
  },
  {
   "cell_type": "markdown",
   "metadata": {},
   "source": [
    "### Save df\n",
    "The data is clean and in a single DataFrame, and now you need to save it as a CSV file so that you can examine it in your exploratory data analysis"
   ]
  },
  {
   "cell_type": "code",
   "execution_count": 22,
   "metadata": {},
   "outputs": [],
   "source": [
    "# Save df\n",
    "df.to_csv(\"data/mexico-real-estate-clean.csv\")"
   ]
  }
 ],
 "metadata": {
  "kernelspec": {
   "display_name": "Python 3",
   "language": "python",
   "name": "python3"
  },
  "language_info": {
   "codemirror_mode": {
    "name": "ipython",
    "version": 3
   },
   "file_extension": ".py",
   "mimetype": "text/x-python",
   "name": "python",
   "nbconvert_exporter": "python",
   "pygments_lexer": "ipython3",
   "version": "3.11.8"
  }
 },
 "nbformat": 4,
 "nbformat_minor": 2
}
